{
 "cells": [
  {
   "cell_type": "code",
   "execution_count": 30,
   "id": "e24fcf48",
   "metadata": {},
   "outputs": [],
   "source": [
    "from matplotlib import font_manager, rc\n",
    "import matplotlib.pyplot as plt\n",
    "import seaborn as sns\n",
    "import xlwings as xw\n",
    "import pandas as pd\n",
    "import numpy as np\n",
    "import os\n",
    "\n",
    "\n",
    "# 그래프의 한글 깨짐 방지\n",
    "font_path = \"C:/Windows/Fonts/NGULIM.TTF\"\n",
    "font = font_manager.FontProperties(fname=font_path).get_name()\n",
    "rc('font', family=font)\n",
    "\n",
    "\"\"\"설정정보 지정\n",
    "    * 산출물 폴더 위치 및 엑셀파일내 sheet명\n",
    "    * 데이터 컬럼 리스트 및 실제이터 시작 위치 지정\n",
    "\"\"\"\n",
    "target_folder = \"d:/workspace/win/win/산출물폴더\"\n",
    "sheet_name = \"Sheet1\"\n",
    "data_columns = [\"업무\", \"상세기능\", \"단위기능\", \"담당자\", \"시작일\", \"종료일\"]\n",
    "start_row = 'A2'"
   ]
  },
  {
   "cell_type": "markdown",
   "id": "acf95ee0",
   "metadata": {},
   "source": [
    "## 특정 폴더내 산출물을 일괄 읽어 들임"
   ]
  },
  {
   "cell_type": "code",
   "execution_count": 31,
   "id": "60e5ca2d",
   "metadata": {},
   "outputs": [],
   "source": [
    "    # 엑셀 파일 => frame_data로 변환\n",
    "    file_list = os.listdir(target_folder)\n",
    "    file_list = [f for f in file_list if f[0].isalnum()]\n",
    "\n",
    "    df = None\n",
    "\n",
    "    '''\n",
    "    지정폴더 내에서 필요한 파일 리스트를 읽어서 데이터프레임으로 합친다\n",
    "    '''\n",
    "    for f in file_list:\n",
    "        wb = xw.Book(os.path.join(target_folder, f))\n",
    "        sheet = wb.sheets[sheet_name]\n",
    "        d = sheet.range(start_row).options(pd.DataFrame, index=False, expand='table').value\n",
    "        df = pd.DataFrame(d) if df is None else pd.concat([df, pd.DataFrame(d)], ignore_index=True)\n",
    "        wb.close()\n",
    "    df.columns = data_columns"
   ]
  },
  {
   "cell_type": "markdown",
   "id": "1e67be82",
   "metadata": {},
   "source": [
    "## 전처리 과정 - 소요시간을 계산해서 셀 추가"
   ]
  },
  {
   "cell_type": "code",
   "execution_count": 32,
   "id": "6b9a0846",
   "metadata": {},
   "outputs": [
    {
     "data": {
      "text/html": [
       "<div>\n",
       "<style scoped>\n",
       "    .dataframe tbody tr th:only-of-type {\n",
       "        vertical-align: middle;\n",
       "    }\n",
       "\n",
       "    .dataframe tbody tr th {\n",
       "        vertical-align: top;\n",
       "    }\n",
       "\n",
       "    .dataframe thead th {\n",
       "        text-align: right;\n",
       "    }\n",
       "</style>\n",
       "<table border=\"1\" class=\"dataframe\">\n",
       "  <thead>\n",
       "    <tr style=\"text-align: right;\">\n",
       "      <th></th>\n",
       "      <th>업무</th>\n",
       "      <th>상세기능</th>\n",
       "      <th>단위기능</th>\n",
       "      <th>담당자</th>\n",
       "      <th>소요시간</th>\n",
       "      <th>시작일</th>\n",
       "      <th>종료일</th>\n",
       "    </tr>\n",
       "  </thead>\n",
       "  <tbody>\n",
       "    <tr>\n",
       "      <th>0</th>\n",
       "      <td>A</td>\n",
       "      <td>A1</td>\n",
       "      <td>A12</td>\n",
       "      <td>홍길동</td>\n",
       "      <td>20</td>\n",
       "      <td>2021-02-01</td>\n",
       "      <td>2021-02-21</td>\n",
       "    </tr>\n",
       "    <tr>\n",
       "      <th>1</th>\n",
       "      <td>A</td>\n",
       "      <td>A2</td>\n",
       "      <td>A21</td>\n",
       "      <td>박세일</td>\n",
       "      <td>16</td>\n",
       "      <td>2021-02-05</td>\n",
       "      <td>2021-02-21</td>\n",
       "    </tr>\n",
       "    <tr>\n",
       "      <th>2</th>\n",
       "      <td>A</td>\n",
       "      <td>A2</td>\n",
       "      <td>A22</td>\n",
       "      <td>안창선</td>\n",
       "      <td>9</td>\n",
       "      <td>2021-02-01</td>\n",
       "      <td>2021-02-10</td>\n",
       "    </tr>\n",
       "    <tr>\n",
       "      <th>3</th>\n",
       "      <td>B</td>\n",
       "      <td>B1</td>\n",
       "      <td>B11</td>\n",
       "      <td>홍길동</td>\n",
       "      <td>16</td>\n",
       "      <td>2021-02-05</td>\n",
       "      <td>2021-02-21</td>\n",
       "    </tr>\n",
       "    <tr>\n",
       "      <th>4</th>\n",
       "      <td>B</td>\n",
       "      <td>B1</td>\n",
       "      <td>B12</td>\n",
       "      <td>박세일</td>\n",
       "      <td>9</td>\n",
       "      <td>2021-02-01</td>\n",
       "      <td>2021-02-10</td>\n",
       "    </tr>\n",
       "    <tr>\n",
       "      <th>...</th>\n",
       "      <td>...</td>\n",
       "      <td>...</td>\n",
       "      <td>...</td>\n",
       "      <td>...</td>\n",
       "      <td>...</td>\n",
       "      <td>...</td>\n",
       "      <td>...</td>\n",
       "    </tr>\n",
       "    <tr>\n",
       "      <th>62</th>\n",
       "      <td>A</td>\n",
       "      <td>A2</td>\n",
       "      <td>A22</td>\n",
       "      <td>안창선</td>\n",
       "      <td>20</td>\n",
       "      <td>2021-02-01</td>\n",
       "      <td>2021-02-21</td>\n",
       "    </tr>\n",
       "    <tr>\n",
       "      <th>63</th>\n",
       "      <td>B</td>\n",
       "      <td>B1</td>\n",
       "      <td>B11</td>\n",
       "      <td>홍길동</td>\n",
       "      <td>20</td>\n",
       "      <td>2021-02-01</td>\n",
       "      <td>2021-02-21</td>\n",
       "    </tr>\n",
       "    <tr>\n",
       "      <th>64</th>\n",
       "      <td>B</td>\n",
       "      <td>B1</td>\n",
       "      <td>B12</td>\n",
       "      <td>박세일</td>\n",
       "      <td>20</td>\n",
       "      <td>2021-02-01</td>\n",
       "      <td>2021-02-21</td>\n",
       "    </tr>\n",
       "    <tr>\n",
       "      <th>65</th>\n",
       "      <td>B</td>\n",
       "      <td>B2</td>\n",
       "      <td>B21</td>\n",
       "      <td>안창선</td>\n",
       "      <td>20</td>\n",
       "      <td>2021-02-01</td>\n",
       "      <td>2021-02-21</td>\n",
       "    </tr>\n",
       "    <tr>\n",
       "      <th>66</th>\n",
       "      <td>B</td>\n",
       "      <td>B2</td>\n",
       "      <td>B22</td>\n",
       "      <td>홍길동</td>\n",
       "      <td>20</td>\n",
       "      <td>2021-02-01</td>\n",
       "      <td>2021-02-21</td>\n",
       "    </tr>\n",
       "  </tbody>\n",
       "</table>\n",
       "<p>67 rows × 7 columns</p>\n",
       "</div>"
      ],
      "text/plain": [
       "   업무 상세기능 단위기능  담당자  소요시간        시작일        종료일\n",
       "0   A   A1  A12  홍길동    20 2021-02-01 2021-02-21\n",
       "1   A   A2  A21  박세일    16 2021-02-05 2021-02-21\n",
       "2   A   A2  A22  안창선     9 2021-02-01 2021-02-10\n",
       "3   B   B1  B11  홍길동    16 2021-02-05 2021-02-21\n",
       "4   B   B1  B12  박세일     9 2021-02-01 2021-02-10\n",
       ".. ..  ...  ...  ...   ...        ...        ...\n",
       "62  A   A2  A22  안창선    20 2021-02-01 2021-02-21\n",
       "63  B   B1  B11  홍길동    20 2021-02-01 2021-02-21\n",
       "64  B   B1  B12  박세일    20 2021-02-01 2021-02-21\n",
       "65  B   B2  B21  안창선    20 2021-02-01 2021-02-21\n",
       "66  B   B2  B22  홍길동    20 2021-02-01 2021-02-21\n",
       "\n",
       "[67 rows x 7 columns]"
      ]
     },
     "execution_count": 32,
     "metadata": {},
     "output_type": "execute_result"
    }
   ],
   "source": [
    "    # 날짜 전처리\n",
    "    df[\"시작일\"].astype('datetime64[ns]')\n",
    "    df[\"종료일\"].astype('datetime64[ns]')\n",
    "    df.insert(4, \"소요시간\", (df[\"종료일\"] - df[\"시작일\"]).dt.days)\n",
    "    \n",
    "    df\n"
   ]
  },
  {
   "cell_type": "markdown",
   "id": "dfed35ee",
   "metadata": {},
   "source": [
    "## 담당자별 개발물량 분석"
   ]
  },
  {
   "cell_type": "code",
   "execution_count": 33,
   "id": "dcd8e2c1",
   "metadata": {},
   "outputs": [
    {
     "data": {
      "text/plain": [
       "<Figure size 432x288 with 0 Axes>"
      ]
     },
     "metadata": {},
     "output_type": "display_data"
    },
    {
     "data": {
      "image/png": "[encoded data removed]",
      "text/plain": [
       "<Figure size 432x288 with 1 Axes>"
      ]
     },
     "metadata": {
      "needs_background": "light"
     },
     "output_type": "display_data"
    }
   ],
   "source": [
    "    # 담당자별 개발 기능 시리즈\n",
    "    pfuncs = df[\"담당자\"].value_counts()\n",
    "    # 총 개발 기능 수\n",
    "    sum_funcs = sum(df[\"담당자\"].value_counts())\n",
    "    # 개인별 평균 개발 기능수\n",
    "    avg_funcs = np.mean(df[\"담당자\"].value_counts())\n",
    "    # 개발물량 제일 적은 사람\n",
    "    p_min_funcs = (pfuncs.loc[pfuncs == df[\"담당자\"].value_counts().min()])\n",
    "    # 개발물량 제일 많은 사람\n",
    "    p_max_funcs = (pfuncs.loc[pfuncs == df[\"담당자\"].value_counts().max()])\n",
    "    # 상위 10%와 하위 10%간의 개발물량 배수 계산\n",
    "    df_g = df['소요시간'].groupby(df['담당자']).mean()\n",
    "    up_f = (df_g.sort_values().head(round(df.shape[0] / 10)))\n",
    "    lo_f = (df_g.sort_values().tail(round(df.shape[0] / 10)))\n",
    "    amt_ratio = (lo_f.mean() / up_f.mean())\n",
    "\n",
    "    psummary = df.groupby(['담당자']).agg(소요시간=('소요시간', 'sum'), 기능수=('상세기능', 'count'))\n",
    "    # ax = sns.scatterplot(x='MySum', y='MyCount', hue=\"담당자\", data=-gdf)\n",
    "\n",
    "    # plot_df = df.groupby([\"담당자\",\"업무명\"])[[\"담당자\", \"업무명\"]].count()\n",
    "\n",
    "    plt.figure()\n",
    "    ax = psummary.plot.bar()\n",
    "    plt.title(\"개발자별 할당 프로그램\")\n",
    "    plt.xlabel(\"담당자\")\n",
    "    plt.ylabel(\"count\")\n",
    "    p_figure = ax.get_figure()"
   ]
  },
  {
   "cell_type": "markdown",
   "id": "818ac743",
   "metadata": {},
   "source": [
    "## 특정 기능별 분석"
   ]
  },
  {
   "cell_type": "code",
   "execution_count": 34,
   "id": "5816a091",
   "metadata": {},
   "outputs": [
    {
     "data": {
      "image/png": "[encoded data removed]",
      "text/plain": [
       "<Figure size 432x288 with 1 Axes>"
      ]
     },
     "metadata": {
      "needs_background": "light"
     },
     "output_type": "display_data"
    }
   ],
   "source": [
    "    import matplotlib.pyplot as plt\n",
    "    # 업무별 개발 총 시간 분석\n",
    "    df_g = df['소요시간'].groupby(df['상세기능']).mean()\n",
    "\n",
    "    up_f = (df_g.sort_values().head(round(df.shape[0] / 10)))\n",
    "    lo_f = (df_g.sort_values().tail(round(df.shape[0] / 10)))\n",
    "    per_func_ratio = lo_f.mean() / up_f.mean()\n",
    "\n",
    "    df_g = df['소요시간'].groupby(df['상세기능']).sum().reset_index()\n",
    "    plt.figure()\n",
    "    plt.xlabel(\"소요시간\")\n",
    "    plt.title(\"상세기능별 소요시간\")\n",
    "    ax = sns.barplot(x=df_g['상세기능'], y=df_g['소요시간'])\n",
    "    f_figure = ax.get_figure()"
   ]
  },
  {
   "cell_type": "code",
   "execution_count": 35,
   "id": "0298063e",
   "metadata": {},
   "outputs": [],
   "source": [
    "    a_data = dict()\n",
    "    a_data['raw_data'] = df\n",
    "    a_data['p_min_funcs'], a_data['p_max_funcs'], a_data['amt_ratio'], a_data['p_plot'], \\\n",
    "            a_data['psummary'], a_data['f_plot'] = p_min_funcs, p_max_funcs, amt_ratio,  p_figure, psummary, f_figure"
   ]
  },
  {
   "cell_type": "markdown",
   "id": "d1fb4f59",
   "metadata": {},
   "source": [
    "## 레포트 생성(엑셀)"
   ]
  },
  {
   "cell_type": "code",
   "execution_count": 36,
   "id": "1386e820",
   "metadata": {},
   "outputs": [],
   "source": [
    "    bk = xw.Book()\n",
    "    sh1 = bk.sheets(1)\n",
    "    sh1.range(\"B1:B4\").column_width = 15\n",
    "    sh1['B2'].value = \"Summary\"\n",
    "    sh1['B3'].value = \"Max Amount\"\n",
    "    sh1['C3'].value = f\"{a_data['p_max_funcs'].index[0]}\"\n",
    "    sh1['D3'].value = f\"{a_data['p_max_funcs'][0]}\"\n",
    "\n",
    "    sh1['B4'].value = \"Min Amount\"\n",
    "    sh1['C4'].value = f\"{a_data['p_min_funcs'].index[0]}\"\n",
    "    sh1['D4'].value = f\"{a_data['p_min_funcs'][0]}\"\n",
    "\n",
    "    sh1[\"A50\"].options(pd.DataFrame, header=1, index=True, expand='table').value = a_data[\"psummary\"]\n",
    "    table_range = sh1.range('C5').expand()\n",
    "    left = table_range.left + table_range.width + 1\n",
    "    top = table_range.top\n",
    "    sh1.pictures.add(a_data['p_plot'], name=\"개인별 그래프\", update=True, left=left, top=top)\n",
    "\n",
    "    table_range = sh1.range('C29').expand()\n",
    "    left = table_range.left + table_range.width + 1\n",
    "    top = table_range.top\n",
    "    sh1.pictures.add(a_data['f_plot'], name=\"기능별 그래프\", update=True, left=left, top=top)\n",
    "\n",
    "    bk.save('리포트.xlsx')\n",
    "    bk.close()\n"
   ]
  },
  {
   "cell_type": "code",
   "execution_count": null,
   "id": "63d47971",
   "metadata": {},
   "outputs": [],
   "source": []
  },
  {
   "cell_type": "code",
   "execution_count": null,
   "id": "b6e36e17",
   "metadata": {},
   "outputs": [],
   "source": []
  }
 ],
 "metadata": {
  "kernelspec": {
   "display_name": "Python 3",
   "language": "python",
   "name": "python3"
  },
  "language_info": {
   "codemirror_mode": {
    "name": "ipython",
    "version": 3
   },
   "file_extension": ".py",
   "mimetype": "text/x-python",
   "name": "python",
   "nbconvert_exporter": "python",
   "pygments_lexer": "ipython3",
   "version": "3.8.8"
  }
 },
 "nbformat": 4,
 "nbformat_minor": 5
}
